{
 "cells": [
  {
   "cell_type": "code",
   "execution_count": 1,
   "metadata": {
    "pycharm": {
     "is_executing": false
    }
   },
   "outputs": [],
   "source": [
    "%load_ext ipydex.displaytools\n",
    "import sympy as sp\n",
    "from sympy import sin, cos\n",
    "import numpy as np\n",
    "import scipy.integrate\n",
    "import symbtools as st\n",
    "import symbtools.modeltools as mt\n",
    "import matplotlib.pyplot as plt\n",
    "from symbtools.visualisation import Visualiser, SimAnimation\n",
    "sp.init_printing()"
   ]
  },
  {
   "cell_type": "code",
   "execution_count": 2,
   "metadata": {
    "pycharm": {
     "is_executing": false
    }
   },
   "outputs": [],
   "source": [
    "theta1, theta2 = theta = st.symb_vector('theta1:3')\n",
    "dtheta1, dtheta2 = dtheta = st.time_deriv(theta, theta)\n",
    "tau = sp.symbols('tau')\n",
    "params = st.symb_vector('m1 l1 J1 mu1 m2 r2 J2 mu2')\n",
    "st.make_global(params)"
   ]
  },
  {
   "cell_type": "code",
   "execution_count": 3,
   "metadata": {
    "pycharm": {
     "is_executing": false
    }
   },
   "outputs": [],
   "source": [
    "p0 = sp.Matrix([0, 0])\n",
    "p1 = sp.Matrix([l1/2*cos(theta1), l1/2*sin(theta1)])\n",
    "p2 = sp.Matrix([l1*cos(theta1), l1*sin(theta1)])\n",
    "p3 = p2 + sp.Matrix([r2*cos(theta1+theta2), r2*sin(theta1+theta2)])\n",
    "dp1 = st.time_deriv(p1, theta)\n",
    "dp2 = st.time_deriv(p2, theta)"
   ]
  },
  {
   "cell_type": "code",
   "execution_count": 4,
   "metadata": {
    "pycharm": {
     "is_executing": false
    }
   },
   "outputs": [],
   "source": [
    "T_rot = J1 * dtheta1**2 / 2 + J2 * (dtheta1 + dtheta2)**2 / 2\n",
    "T_trans = (m1 * dp1.T * dp1 / 2 + m2 * dp2.T * dp2 / 2)[0]\n",
    "T = T_rot + T_trans\n",
    "V = 0\n",
    "friction1 = dtheta1 * mu1\n",
    "friction2 = dtheta2 * mu2\n",
    "\n",
    "model = mt.generate_symbolic_model(T, V, theta, [0 - friction1, tau - friction2])\n",
    "model.tau = [tau]\n",
    "model.calc_state_eq()\n",
    "\n",
    "f = model.f\n",
    "g = model.g"
   ]
  },
  {
   "cell_type": "code",
   "execution_count": 5,
   "metadata": {
    "pycharm": {
     "is_executing": false
    }
   },
   "outputs": [],
   "source": [
    "m1_val = 0.1\n",
    "m2_val = 1\n",
    "l1_val = 0.5\n",
    "r2_val = 0.2\n",
    "J1_val = 1/12 * m1_val * l1_val**2\n",
    "J2_val = 1/2 * m2_val * r2_val**2\n",
    "mu1_val = 0.01\n",
    "mu2_val = 0.001\n",
    "\n",
    "param_subs = st.lzip(params, [m1_val, l1_val, J1_val, mu1_val, m2_val, r2_val, J2_val, mu2_val])\n",
    "\n",
    "f_fun = st.expr_to_func(model.x, f.subs(param_subs))\n",
    "g_fun = st.expr_to_func(model.x, g.subs(param_subs))\n",
    "\n",
    "def tau_fun(t, x):\n",
    "    return np.sin(2*np.pi*0.25*t)\n",
    "\n",
    "def ode_fun(t, x):\n",
    "    return f_fun(x[0], x[1], x[2], x[3]) + tau_fun(t, x) * g_fun(x[0], x[1], x[2], x[3])\n",
    "\n",
    "x_init = np.array([0, 0, 0, 2])\n",
    "tf = 10.0\n",
    "dt = 1/30\n",
    "ts = np.arange(0.0, tf, dt)\n",
    "samples = len(ts)\n",
    "ys = np.empty((samples, len(model.x)))\n",
    "ys[0, :] = x_init\n",
    "\n",
    "for i in range(samples - 1):\n",
    "    result = scipy.integrate.solve_ivp(ode_fun, (ts[i], ts[i+1]), ys[i, :])\n",
    "    ys[i+1, :] = result.y[:, -1]"
   ]
  },
  {
   "cell_type": "code",
   "execution_count": 6,
   "metadata": {
    "pycharm": {
     "is_executing": false
    }
   },
   "outputs": [],
   "source": [
    "vis = Visualiser(theta, xlim=(-1, 1), ylim=(-1, 1))\n",
    "vis.add_linkage([p0.subs(param_subs), p2.subs(param_subs)])\n",
    "vis.add_disk([p2.subs(param_subs), p3.subs(param_subs)], color=\"red\")"
   ]
  },
  {
   "cell_type": "code",
   "execution_count": 7,
   "metadata": {
    "pycharm": {
     "is_executing": false
    }
   },
   "outputs": [
    {
     "data": {
      "application/vnd.jupyter.widget-view+json": {
       "model_id": "b0356fd7936a48fea7090ebfb2cd9278",
       "version_major": 2,
       "version_minor": 0
      },
      "text/plain": [
       "interactive(children=(FloatSlider(value=0.0, description='theta1', max=5.0, min=-5.0), FloatSlider(value=0.0, …"
      ]
     },
     "metadata": {},
     "output_type": "display_data"
    }
   ],
   "source": [
    "vis.interact()"
   ]
  },
  {
   "cell_type": "code",
   "execution_count": null,
   "metadata": {
    "pycharm": {
     "is_executing": false
    }
   },
   "outputs": [],
   "source": [
    "from matplotlib.gridspec import GridSpec\n",
    "\n",
    "gs = GridSpec(3, 3)\n",
    "fig = plt.figure(figsize=(10, 5))\n",
    "\n",
    "ax_vis = fig.add_subplot(gs[:, 1:])\n",
    "ax_vis.set_aspect('equal')\n",
    "ax_vis.set_xlim([-1.0, 1.0])\n",
    "ax_vis.set_ylim([-1.0, 1.0])\n",
    "ax_vis.grid()\n",
    "\n",
    "ax_graph1 = fig.add_subplot(gs[0, 0])\n",
    "ax_graph2 = fig.add_subplot(gs[1, 0])\n",
    "ax_graph3 = fig.add_subplot(gs[2, 0])\n",
    "\n",
    "plt.close()\n",
    "\n",
    "simanim = SimAnimation(model.x, ts, ys, fig=fig)\n",
    "simanim.add_visualiser(vis, ax=ax_vis)\n",
    "simanim.add_graph([theta1, theta2], ax=ax_graph1)\n",
    "simanim.add_graph([dtheta1, dtheta2], ax=ax_graph2)\n",
    "simanim.add_graph(p3.subs(param_subs), ax=ax_graph3)\n",
    "simanim.display()"
   ]
  }
 ],
 "metadata": {
  "kernelspec": {
   "display_name": "Python 3",
   "language": "python",
   "name": "python3"
  },
  "language_info": {
   "codemirror_mode": {
    "name": "ipython",
    "version": 3
   },
   "file_extension": ".py",
   "mimetype": "text/x-python",
   "name": "python",
   "nbconvert_exporter": "python",
   "pygments_lexer": "ipython3",
   "version": "3.7.2"
  },
  "pycharm": {
   "stem_cell": {
    "cell_type": "raw",
    "metadata": {
     "collapsed": false
    },
    "source": []
   }
  }
 },
 "nbformat": 4,
 "nbformat_minor": 2
}
