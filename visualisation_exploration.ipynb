{
 "cells": [
  {
   "cell_type": "code",
   "execution_count": 1,
   "metadata": {},
   "outputs": [],
   "source": [
    "%load_ext ipydex.displaytools\n",
    "import sympy as sp\n",
    "from sympy import sin, cos\n",
    "import numpy as np\n",
    "import symbtools as st\n",
    "import matplotlib.pyplot as plt\n",
    "sp.init_printing()"
   ]
  },
  {
   "cell_type": "code",
   "execution_count": 2,
   "metadata": {},
   "outputs": [],
   "source": [
    "theta1, theta2, theta3 = theta = st.symb_vector('theta1:4')"
   ]
  },
  {
   "cell_type": "code",
   "execution_count": 3,
   "metadata": {},
   "outputs": [],
   "source": [
    "b1 = sp.Matrix([0, 0])\n",
    "b2 = sp.Matrix([1, 0])\n",
    "p1 = b1 + sp.Matrix([cos(theta1), sin(theta1)])\n",
    "p2 = p1 + sp.Matrix([cos(theta1+theta2), sin(theta1+theta2)])\n",
    "p3 = b2 + sp.Matrix([cos(theta3), sin(theta3)])"
   ]
  },
  {
   "cell_type": "code",
   "execution_count": 4,
   "metadata": {},
   "outputs": [],
   "source": [
    "from ipywidgets import FloatSlider, interact\n",
    "\n",
    "def merge_options(custom_options, **default_options):\n",
    "    merged_options = default_options\n",
    "    merged_options.update(custom_options)\n",
    "    return merged_options\n",
    "\n",
    "class VisualiserElement:\n",
    "    def __init__(self, points_fun, init_fun, update_fun, kwargs):\n",
    "        self.points_fun = points_fun\n",
    "        self.init_fun = init_fun\n",
    "        self.update_fun = update_fun\n",
    "        self.kwargs = kwargs\n",
    "        self.drawables = []\n",
    "        \n",
    "class Visualiser:\n",
    "    def __init__(self, variables, **axes_options):\n",
    "        self.variables = variables\n",
    "        self.elements = []\n",
    "        self.axes_options = axes_options\n",
    "        \n",
    "    def create_default_axes(self):\n",
    "        fig = plt.figure()\n",
    "        ax = plt.axes(**merge_options(self.axes_options, aspect='equal', xlim=(-2.0, 2.0), ylim=(-2.0, 2.0)))\n",
    "        ax.grid()\n",
    "        \n",
    "        return fig, ax\n",
    "    \n",
    "    def plot(self, variables_values, axes=None):\n",
    "        assert len(self.variables) == len(variables_values), f\"You need to pass as many variable values as this visualiser has variables. Required: {len(self.variables)}, Given: {len(variables_values)}\"\n",
    "        \n",
    "        fig = None\n",
    "        if axes is None:\n",
    "            fig, axes = self.create_default_axes()\n",
    "            plt.close()\n",
    "            \n",
    "        self.plot_init(variables_values, axes)\n",
    "        self.plot_update(variables_values, axes)\n",
    "        if fig is not None:\n",
    "            display(fig)\n",
    "            \n",
    "    def plot_init(self, variables_values, axes):\n",
    "        drawables = []\n",
    "        for element in self.elements:\n",
    "            element.drawables = element.init_fun(axes, element.points_fun(*variables_values), element.kwargs)\n",
    "            drawables += element.drawables\n",
    "            \n",
    "        return drawables\n",
    "    \n",
    "    def plot_update(self, variables_values, axes):\n",
    "        drawables = []\n",
    "        for element in self.elements:\n",
    "            element.drawables = element.update_fun(axes, element.drawables, element.points_fun(*variables_values), element.kwargs)\n",
    "            drawables += element.drawables\n",
    "        \n",
    "        return drawables\n",
    "            \n",
    "    def interact(self, fig=None, axes=None, **kwargs):\n",
    "        widget_dict = dict()\n",
    "        \n",
    "        for var in self.variables:\n",
    "            var_str = repr(var)\n",
    "            if var_str in kwargs:\n",
    "                widget_dict[var_str] = kwargs[var_str]\n",
    "            else:\n",
    "                widget_dict[var_str] = F(-5.0, 5.0, 0.1, 0.0)\n",
    "                \n",
    "        if fig is None or axes is None:\n",
    "            fig, axes = self.create_default_axes()\n",
    "        \n",
    "        is_initialized = False\n",
    "                \n",
    "        def interact_fun(**kwargs):\n",
    "            nonlocal is_initialized\n",
    "            variables_values = [kwargs[repr(var_symbol)] for var_symbol in self.variables]\n",
    "            \n",
    "            if not is_initialized:\n",
    "                self.plot_init(variables_values, axes)\n",
    "                is_initialized = True\n",
    "                \n",
    "            self.plot_update(variables_values, axes)\n",
    "            display(fig)\n",
    "        \n",
    "        interact(interact_fun, **widget_dict)\n",
    "        \n",
    "    def add_element(self, points, init_fun, update_fun, **kwargs):\n",
    "        if not isinstance(points, sp.Matrix):\n",
    "            if isinstance(points, list):\n",
    "                points = st.col_stack(*points)\n",
    "            else:\n",
    "                raise Exception(\"'points' must be a SymPy matrix or a list of column vectors\")\n",
    "            \n",
    "        points_fun = sp.lambdify(self.variables, points)\n",
    "        self.elements.append(VisualiserElement(points_fun, init_fun, update_fun, kwargs))\n",
    "        \n",
    "    def add_linkage(self, points, **kwargs):\n",
    "        self.add_element(points, init_linkage, update_linkage, **kwargs)\n",
    "        \n",
    "    def add_polygon(self, points, **kwargs):\n",
    "        self.add_element(points, init_polygon, update_polygon, **kwargs)\n",
    "        \n",
    "def init_linkage(ax, points, kwargs):\n",
    "    return ax.plot(points[0, :], points[1, :], **merge_options(kwargs, marker='o', ls='-', lw=3))\n",
    "\n",
    "def update_linkage(ax, drawables, points, kwargs):\n",
    "    drawables[0].set_data(points)\n",
    "    return drawables\n",
    "\n",
    "def init_polygon(ax, points, kwargs):\n",
    "    poly = plt.Polygon(points.T, **kwargs)\n",
    "    ax.add_patch(poly)\n",
    "    \n",
    "    return [poly]\n",
    "\n",
    "def update_polygon(ax, drawables, points, kwargs):\n",
    "    poly = drawables[0]\n",
    "    poly.set_xy(points.T)\n",
    "    \n",
    "    return drawables\n",
    "    \n",
    "def F(min, max, step, value):\n",
    "    return FloatSlider(min=min, max=max, step=step, value=value)"
   ]
  },
  {
   "cell_type": "code",
   "execution_count": 5,
   "metadata": {},
   "outputs": [],
   "source": [
    "vis = Visualiser(theta, xlim=(-2.0, 2.5))\n",
    "vis.add_linkage([b1, p1, p2], lw=4)\n",
    "vis.add_linkage([b2, p3])\n",
    "vis.add_polygon([b1, p2, p3], alpha=0.5)"
   ]
  },
  {
   "cell_type": "code",
   "execution_count": 6,
   "metadata": {},
   "outputs": [
    {
     "data": {
      "image/png": "[encoded data removed]",
      "text/plain": [
       "<Figure size 432x288 with 1 Axes>"
      ]
     },
     "metadata": {
      "needs_background": "light"
     },
     "output_type": "display_data"
    }
   ],
   "source": [
    "fig, ax = vis.create_default_axes()\n",
    "ax.grid(False)\n",
    "vis.plot([3*np.pi/4, -np.pi/2, np.pi/4], ax)"
   ]
  },
  {
   "cell_type": "code",
   "execution_count": 7,
   "metadata": {},
   "outputs": [
    {
     "data": {
      "application/vnd.jupyter.widget-view+json": {
       "model_id": "65fdf73d5fdf47aa8ab85d43eeaa6e1e",
       "version_major": 2,
       "version_minor": 0
      },
      "text/plain": [
       "interactive(children=(FloatSlider(value=0.0, description='theta1', max=5.0, min=-5.0), FloatSlider(value=0.0, …"
      ]
     },
     "metadata": {},
     "output_type": "display_data"
    }
   ],
   "source": [
    "fig, ax = vis.create_default_axes()\n",
    "ax.grid(False)\n",
    "plt.close()\n",
    "vis.interact(fig, ax, theta3=F(-0.5, 0.5, 0.05, 0.5))"
   ]
  },
  {
   "cell_type": "code",
   "execution_count": null,
   "metadata": {},
   "outputs": [],
   "source": [
    "import matplotlib.animation as animation\n",
    "from IPython.display import HTML\n",
    "\n",
    "fig = plt.figure(figsize=(12, 6))\n",
    "ax = plt.subplot(121)\n",
    "ax.set_aspect('equal')\n",
    "ax.set_xlim([-2.0, 2.0])\n",
    "ax.set_ylim([-2.0, 2.0])\n",
    "ax.grid()\n",
    "\n",
    "ax2 = plt.subplot(122)\n",
    "ax2.grid()\n",
    "ax2.set_xlim([0, 10])\n",
    "ax2.set_ylim([-1.5, 1.5])\n",
    "graph_drawables = ax2.plot([], [])\n",
    "\n",
    "data = np.zeros((3, 300))\n",
    "ts = np.linspace(0, 10, 300, endpoint=False)\n",
    "\n",
    "def anim_init():\n",
    "    vis_drawables = vis.plot_init([0.0, 0.0, 0.0], ax)\n",
    "    \n",
    "    return vis_drawables + graph_drawables\n",
    "\n",
    "def anim_update(i):\n",
    "    t = ts[i]\n",
    "    t1 = 2*np.pi*0.25*t\n",
    "    t2 = 2*np.pi*0.5*t\n",
    "    t3 = 2*np.pi*0.3333*t\n",
    "    \n",
    "    data[0, i] = t1\n",
    "    data[1, i] = t2\n",
    "    data[2, i] = t3\n",
    "    \n",
    "    vis_drawables = vis.plot_update([t1, t2, t3], ax)\n",
    "    \n",
    "    graph_drawables[0].set_data(ts[:i+1], np.sin(data[0,:i+1]))\n",
    "    \n",
    "    return vis_drawables + graph_drawables\n",
    "\n",
    "plt.close()\n",
    "\n",
    "ani = animation.FuncAnimation(fig, anim_update, init_func=anim_init, frames=300, interval=1000/30)\n",
    "HTML(ani.to_jshtml())"
   ]
  }
 ],
 "metadata": {
  "kernelspec": {
   "display_name": "Python 3",
   "language": "python",
   "name": "python3"
  },
  "language_info": {
   "codemirror_mode": {
    "name": "ipython",
    "version": 3
   },
   "file_extension": ".py",
   "mimetype": "text/x-python",
   "name": "python",
   "nbconvert_exporter": "python",
   "pygments_lexer": "ipython3",
   "version": "3.6.5"
  }
 },
 "nbformat": 4,
 "nbformat_minor": 2
}
