{
 "cells": [
  {
   "cell_type": "code",
   "execution_count": 18,
   "metadata": {},
   "outputs": [
    {
     "name": "stdout",
     "output_type": "stream",
     "text": [
      "The ipydex.displaytools extension is already loaded. To reload it, use:\n",
      "  %reload_ext ipydex.displaytools\n"
     ]
    }
   ],
   "source": [
    "%load_ext ipydex.displaytools\n",
    "import sympy as sp\n",
    "from sympy import sin, cos\n",
    "import numpy as np\n",
    "import symbtools as st\n",
    "import matplotlib.pyplot as plt\n",
    "sp.init_printing()"
   ]
  },
  {
   "cell_type": "code",
   "execution_count": 3,
   "metadata": {},
   "outputs": [],
   "source": [
    "theta1, theta2, theta3 = theta = st.symb_vector('theta1:4')"
   ]
  },
  {
   "cell_type": "code",
   "execution_count": 6,
   "metadata": {},
   "outputs": [],
   "source": [
    "b1 = sp.Matrix([0, 0])\n",
    "b2 = sp.Matrix([1, 0])\n",
    "p1 = b1 + sp.Matrix([cos(theta1), sin(theta1)])\n",
    "p2 = p1 + sp.Matrix([cos(theta1+theta2), sin(theta1+theta2)])\n",
    "p3 = b2 + sp.Matrix([cos(theta3), sin(theta3)])"
   ]
  },
  {
   "cell_type": "code",
   "execution_count": 19,
   "metadata": {},
   "outputs": [
    {
     "data": {
      "image/png": "[encoded data removed]",
      "text/latex": [
       "$$\\verb|points_expr| := \\left[\\begin{matrix}0 & 1 & \\cos{\\left (\\theta_{1} \\right )} & \\cos{\\left (\\theta_{1} \\right )} + \\cos{\\left (\\theta_{1} + \\theta_{2} \\right )} & \\cos{\\left (\\theta_{3} \\right )} + 1\\\\0 & 0 & \\sin{\\left (\\theta_{1} \\right )} & \\sin{\\left (\\theta_{1} \\right )} + \\sin{\\left (\\theta_{1} + \\theta_{2} \\right )} & \\sin{\\left (\\theta_{3} \\right )}\\end{matrix}\\right]$$"
      ],
      "text/plain": [
       "points_expr := ⎡0  1  cos(θ₁)  cos(θ₁) + cos(θ₁ + θ₂)  cos(θ₃) + 1⎤\n",
       "⎢                                                  ⎥\n",
       "⎣0  0  sin(θ₁)  sin(θ₁) + sin(θ₁ + θ₂)    sin(θ₃)  ⎦"
      ]
     },
     "metadata": {},
     "output_type": "display_data"
    },
    {
     "name": "stdout",
     "output_type": "stream",
     "text": [
      "---\n"
     ]
    },
    {
     "data": {
      "text/plain": [
       "points_val := array([[0.        , 1.        , 0.70710678, 1.70710678, 1.70710678],\n",
       "                     [0.        , 0.        , 0.70710678, 0.70710678, 0.70710678]])"
      ]
     },
     "metadata": {},
     "output_type": "display_data"
    },
    {
     "name": "stdout",
     "output_type": "stream",
     "text": [
      "---\n"
     ]
    }
   ],
   "source": [
    "points_expr = st.col_stack(b1, b2, p1, p2, p3) ##:\n",
    "points_fun = sp.lambdify(theta, points_expr)\n",
    "\n",
    "points_val = points_fun(np.pi/4, -np.pi/4, np.pi/4) ##:"
   ]
  },
  {
   "cell_type": "code",
   "execution_count": 22,
   "metadata": {
    "scrolled": true
   },
   "outputs": [
    {
     "data": {
      "image/png": "[encoded data removed]",
      "text/plain": [
       "<Figure size 432x432 with 1 Axes>"
      ]
     },
     "metadata": {
      "needs_background": "light"
     },
     "output_type": "display_data"
    }
   ],
   "source": [
    "fig = plt.figure(figsize=(6, 6))\n",
    "ax = fig.add_subplot(111, autoscale_on=False, xlim=(-1,2), ylim=(-1.5,1.5))\n",
    "ax.set_aspect('equal')\n",
    "plt.grid()\n",
    "\n",
    "line1, = ax.plot([], [], \"-o\")\n",
    "line1.set_data(points_val[:, [0, 2, 3]])\n",
    "\n",
    "line2, = ax.plot([], [], \"-o\")\n",
    "line2.set_data(points_val[:, [1, 4]])\n",
    "\n",
    "plt.show()"
   ]
  },
  {
   "cell_type": "code",
   "execution_count": null,
   "metadata": {},
   "outputs": [],
   "source": [
    "visualiser = Visualiser(theta)\n",
    "visualiser.add_linkage(ax1, [b1, p1, p2])\n",
    "visualiser.add_linkage(ax2, [b2, p3], lw=5)\n",
    "visualiser.add_polygon([b1, p1, p2, b2])\n",
    "\n",
    "visualiser.plot([0.0, np.pi/4, 1.7])\n",
    "visualiser.make_interactive(theta2=F(-2, .5, .1, 0))\n",
    "\n",
    "anim_init = visualiser.init_func\n",
    "anim_update = visualiser.update_func"
   ]
  },
  {
   "cell_type": "code",
   "execution_count": 183,
   "metadata": {},
   "outputs": [],
   "source": [
    "from ipywidgets import FloatSlider, interact\n",
    "\n",
    "class VisualiserElement:\n",
    "    def __init__(self, points_fun, init_fun, update_fun, axis, kwargs):\n",
    "        self.points_fun = points_fun\n",
    "        self.init_fun = init_fun\n",
    "        self.update_fun = update_fun\n",
    "        self.axis = axis\n",
    "        self.kwargs = kwargs\n",
    "        self.drawables = []\n",
    "        \n",
    "class Visualiser:\n",
    "    def __init__(self, variables, default_axis=None):\n",
    "        self.variables = variables\n",
    "        self.elements = []        \n",
    "        self.default_axis = default_axis\n",
    "        \n",
    "    def create_default_axis(self):\n",
    "        fig = plt.figure()\n",
    "        ax = plt.axes()\n",
    "        ax.set_aspect('equal')\n",
    "        ax.set_xlim([-2.0, 2.0])\n",
    "        ax.set_ylim([-2.0, 2.0])\n",
    "        ax.grid()\n",
    "        \n",
    "        return ax\n",
    "    \n",
    "    def get_or_create_default_axis_if_necessary(self):\n",
    "        if self.default_axis is None:\n",
    "            if self.has_elements_with_no_axis():\n",
    "                default_axis = self.create_default_axis()\n",
    "            else:\n",
    "                default_axis = None\n",
    "        else:\n",
    "            default_axis = self.default_axis\n",
    "            \n",
    "        return default_axis\n",
    "    \n",
    "    def has_elements_with_no_axis(self):\n",
    "        return any([element.axis is None for element in self.elements])\n",
    "    \n",
    "    def plot(self, variables_values):\n",
    "        assert len(self.variables) == len(variables_values), f\"You need to pass as many variable values as this visualiser has variables. Required: {len(self.variables)}, Given: {len(variables_values)}\"\n",
    "        \n",
    "        default_axis = self.get_or_create_default_axis_if_necessary()\n",
    "            \n",
    "        self.plot_init(variables_values, default_axis)\n",
    "        self.plot_update(variables_values, default_axis)\n",
    "            \n",
    "    def plot_init(self, variables_values, default_axis):\n",
    "        drawables = []\n",
    "        for element in self.elements:\n",
    "            if element.axis is None:\n",
    "                ax = default_axis\n",
    "            else:\n",
    "                ax = element.axis\n",
    "            element.drawables = element.init_fun(ax, element.points_fun(*variables_values), element.kwargs)\n",
    "            drawables += element.drawables\n",
    "            \n",
    "        return drawables\n",
    "    \n",
    "    def plot_update(self, variables_values, default_axis):\n",
    "        drawables = []\n",
    "        for element in self.elements:\n",
    "            if element.axis is None:\n",
    "                ax = default_axis\n",
    "            else:\n",
    "                ax = element.axis\n",
    "            element.drawables = element.update_fun(ax, element.drawables, element.points_fun(*variables_values), element.kwargs)\n",
    "            drawables += element.drawables\n",
    "        \n",
    "        return drawables\n",
    "            \n",
    "    def interact(self, **kwargs):\n",
    "        widget_dict = dict()\n",
    "        \n",
    "        for var in self.variables:\n",
    "            var_str = repr(var)\n",
    "            if var_str in kwargs:\n",
    "                widget_dict[var_str] = kwargs[var_str]\n",
    "            else:\n",
    "                widget_dict[var_str] = F(-2.0, 2.0, 0.1, 0.0)\n",
    "        \n",
    "        interact(self.interact_fun, **widget_dict)\n",
    "        \n",
    "    def interact_fun(self, **kwargs):\n",
    "            variables_values = [kwargs[repr(var_symbol)] for var_symbol in self.variables]\n",
    "            self.plot(variables_values)\n",
    "        \n",
    "    def add_element(self, points, init_fun, update_fun, axis=None, **kwargs):\n",
    "        if not isinstance(points, sp.Matrix):\n",
    "            if isinstance(points, list):\n",
    "                points = st.col_stack(*points)\n",
    "            else:\n",
    "                raise Exception(\"'points' must be a SymPy matrix or a list of column vectors\")\n",
    "            \n",
    "        points_fun = sp.lambdify(self.variables, points)\n",
    "        self.elements.append(VisualiserElement(points_fun, init_fun, update_fun, axis, kwargs))\n",
    "        \n",
    "def init_linkage(ax, points, kwargs):\n",
    "    return ax.plot(points[0, :], points[1, :], \"-o\", **kwargs)\n",
    "\n",
    "def update_linkage(ax, drawables, points, kwargs):\n",
    "    drawables[0].set_data(points)\n",
    "    return drawables\n",
    "\n",
    "def add_linkage(visualiser, points, axis=None, **kwargs):\n",
    "    visualiser.add_element(points, init_linkage, update_linkage, axis, **kwargs)\n",
    "    \n",
    "def F(min, max, step, value):\n",
    "    return FloatSlider(min=min, max=max, step=step, value=value)"
   ]
  },
  {
   "cell_type": "code",
   "execution_count": 186,
   "metadata": {},
   "outputs": [
    {
     "data": {
      "application/vnd.jupyter.widget-view+json": {
       "model_id": "60f06c13081e4fc39b8fba21e1cad460",
       "version_major": 2,
       "version_minor": 0
      },
      "text/plain": [
       "interactive(children=(FloatSlider(value=0.0, description='theta1', max=2.0, min=-2.0), FloatSlider(value=0.0, …"
      ]
     },
     "metadata": {},
     "output_type": "display_data"
    }
   ],
   "source": [
    "vis = Visualiser(theta)\n",
    "add_linkage(vis, [b1, p1, p2], lw=3)\n",
    "add_linkage(vis, [b2, p3], lw=3)\n",
    "vis.interact(theta3=F(-0.5, 0.5, 0.05, 0.5))"
   ]
  },
  {
   "cell_type": "code",
   "execution_count": null,
   "metadata": {},
   "outputs": [],
   "source": []
  }
 ],
 "metadata": {
  "kernelspec": {
   "display_name": "Python 3",
   "language": "python",
   "name": "python3"
  },
  "language_info": {
   "codemirror_mode": {
    "name": "ipython",
    "version": 3
   },
   "file_extension": ".py",
   "mimetype": "text/x-python",
   "name": "python",
   "nbconvert_exporter": "python",
   "pygments_lexer": "ipython3",
   "version": "3.6.5"
  }
 },
 "nbformat": 4,
 "nbformat_minor": 2
}
